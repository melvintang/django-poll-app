{
 "cells": [
  {
   "cell_type": "code",
   "execution_count": null,
   "metadata": {
    "collapsed": true
   },
   "outputs": [],
   "source": [
    "import datetime\n",
    "\n",
    "from django.utils import timezone\n",
    "from django.test import TestCase\n",
    "from django.core.urlresolvers import reverse\n",
    "\n",
    "from .models import Question\n",
    "\n",
    "\n",
    "class QuestionMethodTests(TestCase):\n",
    "\n",
    "    def test_was_published_recently_with_future_question(self):\n",
    "        \"\"\"\n",
    "        was_published_recently() should return False for questions whose\n",
    "        pub_date is in the future.\n",
    "        \"\"\"\n",
    "        time = timezone.now() + datetime.timedelta(days=30)\n",
    "        future_question = Question(pub_date=time)\n",
    "        self.assertEqual(future_question.was_published_recently(), False)\n",
    "        \n",
    "    def test_was_published_recently_with_old_question(self):\n",
    "        \"\"\"\n",
    "        was_published_recently() should return False for questions whose\n",
    "        pub_date is older than 1 day.\n",
    "        \"\"\"\n",
    "        time = timezone.now() - datetime.timedelta(days=30)\n",
    "        old_question = Question(pub_date=time)\n",
    "        self.assertEqual(old_question.was_published_recently(), False)\n",
    "\n",
    "    def test_was_published_recently_with_recent_question(self):\n",
    "        \"\"\"\n",
    "        was_published_recently() should return True for questions whose\n",
    "        pub_date is within the last day.\n",
    "        \"\"\"\n",
    "        time = timezone.now() - datetime.timedelta(hours=1)\n",
    "        recent_question = Question(pub_date=time)\n",
    "        self.assertEqual(recent_question.was_published_recently(), True)\n",
    "    "
   ]
  }
 ],
 "metadata": {
  "kernelspec": {
   "display_name": "Python 2",
   "language": "python",
   "name": "python2"
  },
  "language_info": {
   "codemirror_mode": {
    "name": "ipython",
    "version": 2
   },
   "file_extension": ".py",
   "mimetype": "text/x-python",
   "name": "python",
   "nbconvert_exporter": "python",
   "pygments_lexer": "ipython2",
   "version": "2.7.11"
  }
 },
 "nbformat": 4,
 "nbformat_minor": 0
}
